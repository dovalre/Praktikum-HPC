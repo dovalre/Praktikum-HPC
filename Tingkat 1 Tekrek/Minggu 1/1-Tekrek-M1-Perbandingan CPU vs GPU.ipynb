{
 "cells": [
  {
   "cell_type": "markdown",
   "metadata": {},
   "source": [
    "## Kemampuan CPU vs GPU"
   ]
  },
  {
   "cell_type": "markdown",
   "metadata": {},
   "source": [
    "---"
   ]
  },
  {
   "cell_type": "markdown",
   "metadata": {},
   "source": [
    "Pemrosesan data antara penggunaan CPU dan GPU sangat berbeda. Di bawah ini adalah contoh program dengan menggunakan python 3 untuk melihat perbandingan kemampuan antara penggunaan CPU dengan GPU."
   ]
  },
  {
   "cell_type": "markdown",
   "metadata": {},
   "source": [
    "<img src=\"https://graphicscompendium.com/intro/figures/cpu-vs-gpu.svg\" width=\"400\">"
   ]
  },
  {
   "cell_type": "markdown",
   "metadata": {},
   "source": [
    "### Program :"
   ]
  },
  {
   "cell_type": "markdown",
   "metadata": {},
   "source": [
    "Di bawah ini adalah contoh program python menggunakan library numpy yang memanfaatkan CPU dan juga cupy yang memanfaatkan GPU. Sementara library time digunakan untuk melakukan perhitungan waktu yang diperlukan."
   ]
  },
  {
   "cell_type": "code",
   "execution_count": null,
   "metadata": {},
   "outputs": [],
   "source": [
    "pip install cupy"
   ]
  },
  {
   "cell_type": "code",
   "execution_count": null,
   "metadata": {},
   "outputs": [],
   "source": [
    "### Numpy dan CPU\n",
    "s = time.time()\n",
    "x_cpu = np.ones((1000,1000,1000))\n",
    "e = time.time()\n",
    "print(\"Waktu yang diperlukan untuk CPU :\", e - s)"
   ]
  },
  {
   "cell_type": "code",
   "execution_count": null,
   "metadata": {},
   "outputs": [],
   "source": [
    "### CuPy dan GPU\n",
    "s = time.time()\n",
    "x_gpu = cp.ones((1000,1000,1000))\n",
    "cp.cuda.Stream.null.synchronize()\n",
    "e = time.time()\n",
    "print(\"Waktu yang diperlukan untuk GPU :\", e - s)"
   ]
  },
  {
   "cell_type": "markdown",
   "metadata": {},
   "source": [
    "Dari hasil di atas dapat dilihat perbedaan hasil kecepatan waktu antara penggunaan CPU dan GPU. Program berikutnya untuk melakukan operasi matematika terhadap array yaitu dengan mengkalikannya dengan nilai tertentu."
   ]
  },
  {
   "cell_type": "code",
   "execution_count": null,
   "metadata": {},
   "outputs": [],
   "source": [
    "### Nilai yang akan dikalikan dengan array\n",
    "n = 5"
   ]
  },
  {
   "cell_type": "code",
   "execution_count": null,
   "metadata": {},
   "outputs": [],
   "source": [
    "### Numpy dan CPU\n",
    "s = time.time()\n",
    "x_cpu *= n\n",
    "e = time.time()\n",
    "print(\"Waktu yang diperlukan untuk CPU :\", e - s)"
   ]
  },
  {
   "cell_type": "code",
   "execution_count": null,
   "metadata": {},
   "outputs": [],
   "source": [
    "### CuPy and GPU\n",
    "s = time.time()\n",
    "x_gpu *= n\n",
    "cp.cuda.Stream.null.synchronize()\n",
    "e = time.time()\n",
    "print(\"Waktu yang diperlukan untuk GPU :\", e - s)"
   ]
  },
  {
   "cell_type": "code",
   "execution_count": null,
   "metadata": {
    "scrolled": true
   },
   "outputs": [],
   "source": [
    "s = time.time()\n",
    "m_gpu = cp.random.randint(10, size=(100000,1000))\n",
    "cp.cuda.Stream.null.synchronize()\n",
    "e = time.time()\n",
    "print(\"Waktu GPU :\", e - s, \"detik\")"
   ]
  },
  {
   "cell_type": "code",
   "execution_count": null,
   "metadata": {},
   "outputs": [],
   "source": [
    "s = time.time()\n",
    "A = cp.random.randint(10, size=(100000,1000))\n",
    "A.transpose()\n",
    "cp.cuda.Stream.null.synchronize()\n",
    "e = time.time()\n",
    "print(\"Waktu GPU :\", e - s, \"detik\")"
   ]
  }
 ],
 "metadata": {
  "kernelspec": {
   "display_name": "Python 3 (ipykernel)",
   "language": "python",
   "name": "python3"
  },
  "language_info": {
   "codemirror_mode": {
    "name": "ipython",
    "version": 3
   },
   "file_extension": ".py",
   "mimetype": "text/x-python",
   "name": "python",
   "nbconvert_exporter": "python",
   "pygments_lexer": "ipython3",
   "version": "3.9.13"
  }
 },
 "nbformat": 4,
 "nbformat_minor": 4
}
